{
 "cells": [
  {
   "cell_type": "code",
   "execution_count": 1,
   "metadata": {},
   "outputs": [],
   "source": [
    "from PIL import Image\n",
    "from keras.applications.vgg16 import preprocess_input\n",
    "import base64\n",
    "from io import BytesIO\n",
    "import json\n",
    "import random\n",
    "import cv2\n",
    "from keras.models import load_model\n",
    "import numpy as np\n",
    "\n",
    "from keras.preprocessing import image\n",
    "model = load_model('facefeatures_new_model_final.h5')"
   ]
  },
  {
   "cell_type": "code",
   "execution_count": 2,
   "metadata": {},
   "outputs": [],
   "source": [
    "# Loading the cascades\n",
    "face_cascade = cv2.CascadeClassifier('haarcascade_frontalface_default.xml')\n"
   ]
  },
  {
   "cell_type": "code",
   "execution_count": 3,
   "metadata": {},
   "outputs": [],
   "source": [
    "def face_extractor(img):\n",
    "    # Function detects faces and returns the cropped face\n",
    "    # If no face detected, it returns the input image\n",
    "    \n",
    "    #gray = cv2.cvtColor(img,cv2.COLOR_BGR2GRAY)\n",
    "    faces = face_cascade.detectMultiScale(img, 1.3, 5)\n",
    "    \n",
    "    if faces is ():\n",
    "        return None\n",
    "    \n",
    "    # Crop all faces found\n",
    "    for (x,y,w,h) in faces:\n",
    "        cv2.rectangle(img,(x,y),(x+w,y+h),(0,255,255),2)\n",
    "        cropped_face = img[y:y+h, x:x+w]\n",
    "\n",
    "    return cropped_face\n"
   ]
  },
  {
   "cell_type": "code",
   "execution_count": 6,
   "metadata": {},
   "outputs": [
    {
     "name": "stdout",
     "output_type": "stream",
     "text": [
      "[[1. 0.]]\n",
      "[[1.000000e+00 9.324045e-24]]\n",
      "[[1.00000e+00 2.21178e-09]]\n",
      "[[1.0000000e+00 1.6217788e-24]]\n",
      "[[1.0000000e+00 1.0285046e-09]]\n",
      "[[1.0000000e+00 2.3378613e-28]]\n",
      "[[1.0000000e+00 6.5366285e-24]]\n",
      "[[1.6417887e-12 1.0000000e+00]]\n",
      "[[1.9049436e-20 1.0000000e+00]]\n",
      "[[2.6354892e-18 1.0000000e+00]]\n",
      "[[1.341696e-29 1.000000e+00]]\n",
      "[[9.9999356e-01 6.4750675e-06]]\n",
      "[[0.93033034 0.06966968]]\n",
      "[[6.5120312e-06 9.9999344e-01]]\n",
      "[[0.07501802 0.924982  ]]\n",
      "[[1.0000000e+00 1.9849843e-24]]\n",
      "[[9.999608e-01 3.919769e-05]]\n",
      "[[1.0000000e+00 1.6701564e-10]]\n",
      "[[9.999808e-01 1.916403e-05]]\n",
      "[[3.6119715e-08 1.0000000e+00]]\n",
      "[[1.1907702e-08 1.0000000e+00]]\n",
      "[[9.9999905e-01 9.4537415e-07]]\n",
      "[[1.0000000e+00 3.1855623e-18]]\n",
      "[[1.0049447e-07 9.9999988e-01]]\n",
      "[[9.9972504e-01 2.7491900e-04]]\n",
      "[[9.9922967e-01 7.7030493e-04]]\n",
      "[[0.13666737 0.8633326 ]]\n",
      "[[9.9981397e-01 1.8608075e-04]]\n",
      "[[0.99897575 0.0010243 ]]\n",
      "[[7.8720223e-06 9.9999213e-01]]\n",
      "[[8.2299509e-04 9.9917704e-01]]\n",
      "[[1.000000e+00 9.543757e-09]]\n",
      "[[9.9968612e-01 3.1395632e-04]]\n",
      "[[0.01601635 0.98398364]]\n",
      "[[0.1433315  0.85666853]]\n",
      "[[0.05783166 0.94216835]]\n",
      "[[9.9999976e-01 1.9672163e-07]]\n",
      "[[1.1213935e-05 9.9998879e-01]]\n",
      "[[1.0000000e+00 5.6515626e-18]]\n",
      "[[1.000000e+00 5.122005e-09]]\n",
      "[[0.9835418  0.01645824]]\n",
      "[[0.3146773  0.68532276]]\n",
      "[[2.0563855e-05 9.9997938e-01]]\n",
      "[[6.947276e-17 1.000000e+00]]\n",
      "[[1.0000000e+00 1.1631793e-08]]\n",
      "[[0.00814755 0.99185246]]\n",
      "[[0.01694664 0.9830534 ]]\n",
      "[[1.0000000e+00 7.9914106e-26]]\n",
      "[[1.00000000e+00 1.05987745e-11]]\n",
      "[[1.0000000e+00 7.3248595e-26]]\n",
      "[[1.000000e+00 2.895417e-23]]\n"
     ]
    }
   ],
   "source": [
    "# Doing some Face Recognition with the webcam\n",
    "video_capture = cv2.VideoCapture(0)\n",
    "while True:\n",
    "    _, frame = video_capture.read()\n",
    "    #canvas = detect(gray, frame)\n",
    "    #image, face =face_detector(frame)\n",
    "    \n",
    "    face=face_extractor(frame)\n",
    "    if type(face) is np.ndarray:\n",
    "        face = cv2.resize(face, (224, 224))\n",
    "        im = Image.fromarray(face, 'RGB')\n",
    "           #Resizing into 128x128 because we trained the model with this image size.\n",
    "        img_array = np.array(im)\n",
    "                    #Our keras model used a 4D tensor, (images x height x width x channel)\n",
    "                    #So changing dimension 128x128x3 into 1x128x128x3 \n",
    "        img_array = np.expand_dims(img_array, axis=0)\n",
    "        pred = model.predict(img_array)\n",
    "        print(pred)\n",
    "                     \n",
    "        name=\"None matching\"\n",
    "        \n",
    "        if(pred[0][1]>0.5):\n",
    "            name='Vraj'\n",
    "        cv2.putText(frame,name, (50, 50), cv2.FONT_HERSHEY_COMPLEX, 1, (0,255,0), 2)\n",
    "    else:\n",
    "        cv2.putText(frame,\"No face found\", (50, 50), cv2.FONT_HERSHEY_COMPLEX, 1, (0,255,0), 2)\n",
    "    cv2.imshow('Video', frame)\n",
    "    if cv2.waitKey(1) & 0xFF == ord('q'):\n",
    "        break\n",
    "video_capture.release()\n",
    "cv2.destroyAllWindows()\n",
    "\n",
    "       "
   ]
  },
  {
   "cell_type": "code",
   "execution_count": null,
   "metadata": {},
   "outputs": [],
   "source": []
  },
  {
   "cell_type": "code",
   "execution_count": null,
   "metadata": {},
   "outputs": [],
   "source": []
  }
 ],
 "metadata": {
  "kernelspec": {
   "display_name": "Python 3",
   "language": "python",
   "name": "python3"
  },
  "language_info": {
   "codemirror_mode": {
    "name": "ipython",
    "version": 3
   },
   "file_extension": ".py",
   "mimetype": "text/x-python",
   "name": "python",
   "nbconvert_exporter": "python",
   "pygments_lexer": "ipython3",
   "version": "3.7.6"
  }
 },
 "nbformat": 4,
 "nbformat_minor": 4
}
